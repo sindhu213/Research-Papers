{
  "nbformat": 4,
  "nbformat_minor": 0,
  "metadata": {
    "colab": {
      "provenance": [],
      "collapsed_sections": [],
      "authorship_tag": "ABX9TyNCXr4mw94ycyNNo2C4hxCX",
      "include_colab_link": true
    },
    "kernelspec": {
      "name": "python3",
      "display_name": "Python 3"
    },
    "language_info": {
      "name": "python"
    },
    "accelerator": "GPU"
  },
  "cells": [
    {
      "cell_type": "markdown",
      "metadata": {
        "id": "view-in-github",
        "colab_type": "text"
      },
      "source": [
        "<a href=\"https://colab.research.google.com/github/sindhu213/Research-Papers/blob/master/src/Effective_Approaches_to_NMT_with_Attention.ipynb\" target=\"_parent\"><img src=\"https://colab.research.google.com/assets/colab-badge.svg\" alt=\"Open In Colab\"/></a>"
      ]
    },
    {
      "cell_type": "code",
      "execution_count": 1,
      "metadata": {
        "id": "YxDX9EwU2hmx"
      },
      "outputs": [],
      "source": [
        "import re\n",
        "import torch\n",
        "import random\n",
        "from torch import nn\n",
        "from urllib.request import urlopen\n",
        "from torchtext.vocab import build_vocab_from_iterator\n",
        "from torch.nn.utils.rnn import pad_sequence\n",
        "from torch.utils.data import DataLoader"
      ]
    },
    {
      "cell_type": "markdown",
      "source": [
        "# Preparing Data"
      ],
      "metadata": {
        "id": "k18p7G693LxW"
      }
    },
    {
      "cell_type": "code",
      "source": [
        "link = \"https://raw.githubusercontent.com/suvaansh/Machine-Translation-English-to-Hindi-/master/hin.txt\"\n",
        "\n",
        "with urlopen(link) as url:\n",
        "  temp = url.read().decode('utf-8').split('\\n')\n",
        "  ds = [item.split('\\t') for item in temp]"
      ],
      "metadata": {
        "id": "5Myq9dc83KGZ"
      },
      "execution_count": 2,
      "outputs": []
    },
    {
      "cell_type": "code",
      "source": [
        "DATA = ds[:len(ds)-2]"
      ],
      "metadata": {
        "id": "XxRtwU_y3Rk0"
      },
      "execution_count": 3,
      "outputs": []
    },
    {
      "cell_type": "code",
      "source": [
        "def tokenize_en(text):\n",
        "  tokenized = re.sub(r'[^\\w\\s+]',' ',text.lower())\n",
        "  return tokenized.split()\n",
        "\n",
        "def tokenize_hi(text):\n",
        "  tokenized = re.sub(r'[!(),-./।:;\"?[\\]^_`{|}~]',' ',text)\n",
        "  return tokenized.split()"
      ],
      "metadata": {
        "id": "gXoKuKKv3TX2"
      },
      "execution_count": 4,
      "outputs": []
    },
    {
      "cell_type": "code",
      "source": [
        "## sanity check\n",
        "print(tokenize_en('He said, \"I will try to get this work done by tomorrow!\"'))\n",
        "print(tokenize_hi('उन्होंने कहा, \"मैं यह काम कल तक पूरा करने की कोशिश करूंगा!\"'))"
      ],
      "metadata": {
        "colab": {
          "base_uri": "https://localhost:8080/"
        },
        "id": "i78LX9nn3Usf",
        "outputId": "bfed9e26-391a-4758-8aaa-b473bb478be2"
      },
      "execution_count": 5,
      "outputs": [
        {
          "output_type": "stream",
          "name": "stdout",
          "text": [
            "['he', 'said', 'i', 'will', 'try', 'to', 'get', 'this', 'work', 'done', 'by', 'tomorrow']\n",
            "['उन्होंने', 'कहा', 'मैं', 'यह', 'काम', 'कल', 'तक', 'पूरा', 'करने', 'की', 'कोशिश', 'करूंगा']\n"
          ]
        }
      ]
    },
    {
      "cell_type": "code",
      "source": [
        "def yield_tokens(iter,lang):\n",
        "  for EN,HI in iter:\n",
        "    if lang is 'en': yield tokenize_en(EN)\n",
        "    else: yield tokenize_hi(HI)"
      ],
      "metadata": {
        "id": "clttd2zq3WJG"
      },
      "execution_count": 6,
      "outputs": []
    },
    {
      "cell_type": "code",
      "source": [
        "EN_VOCAB = build_vocab_from_iterator(yield_tokens(DATA,'en'),min_freq=1,specials=[\"<unk>\",\"<pad>\",\"<bos>\",\"<eos>\"])\n",
        "EN_VOCAB.set_default_index(0)\n",
        "\n",
        "HI_VOCAB = build_vocab_from_iterator(yield_tokens(DATA,'hi'),min_freq=1,specials=[\"<unk>\",\"<pad>\",\"<bos>\",\"<eos>\"])\n",
        "HI_VOCAB.set_default_index(0)"
      ],
      "metadata": {
        "id": "2mt3c3l53X7d"
      },
      "execution_count": 244,
      "outputs": []
    },
    {
      "cell_type": "code",
      "source": [
        "print(\"Total no. of training examples:\",len(DATA))\n",
        "print(\"English vocab size:\",len(EN_VOCAB))\n",
        "print(\"Hindi vocab size:\",len(HI_VOCAB))"
      ],
      "metadata": {
        "colab": {
          "base_uri": "https://localhost:8080/"
        },
        "id": "NLL_EIVo3aJ1",
        "outputId": "be57dfe3-d4d1-422d-a578-4920da918127"
      },
      "execution_count": 245,
      "outputs": [
        {
          "output_type": "stream",
          "name": "stdout",
          "text": [
            "Total no. of training examples: 2868\n",
            "English vocab size: 2368\n",
            "Hindi vocab size: 2856\n"
          ]
        }
      ]
    },
    {
      "cell_type": "code",
      "source": [
        "en_pipeline = lambda x: EN_VOCAB([\"<bos>\",*tokenize_en(x),\"<eos>\"])\n",
        "hi_pipeline = lambda x: HI_VOCAB([\"<bos>\",*tokenize_hi(x),\"<eos>\"])"
      ],
      "metadata": {
        "id": "4m0wQD2N3eKy"
      },
      "execution_count": 148,
      "outputs": []
    },
    {
      "cell_type": "code",
      "source": [
        "def collate_batch(data_iter):\n",
        "  src,tgt = [],[]\n",
        "  device = torch.device('cuda' if torch.cuda.is_available() else 'cpu')\n",
        "\n",
        "  for x,y in data_iter:\n",
        "    src_encoded = en_pipeline(x)\n",
        "    src.append(torch.tensor(src_encoded,dtype=torch.int64,device=device))\n",
        "    tgt_encoded = hi_pipeline(y)\n",
        "    tgt.append(torch.tensor(tgt_encoded,dtype=torch.int64,device=device))\n",
        "  \n",
        "  src = pad_sequence(src,batch_first=True,padding_value=1)\n",
        "  tgt = pad_sequence(tgt,batch_first=True,padding_value=1)\n",
        "  \n",
        "  return src.to(device), tgt.to(device)"
      ],
      "metadata": {
        "id": "yf7IkelM3fZa"
      },
      "execution_count": 149,
      "outputs": []
    },
    {
      "cell_type": "code",
      "source": [
        "BATCH_SIZE = 64\n",
        "\n",
        "TRAIN_DL = DataLoader(DATA,batch_size=BATCH_SIZE,shuffle=True,drop_last=True,collate_fn=collate_batch)"
      ],
      "metadata": {
        "id": "g_Amb2d83g3T"
      },
      "execution_count": 150,
      "outputs": []
    },
    {
      "cell_type": "code",
      "source": [
        "en_tensor,hi_tensor = next(iter(TRAIN_DL))\n",
        "print(\"[BATCH_SIZE,en_seq_length]: \",en_tensor.shape)\n",
        "print(\"[BATCH_SIZE,hi_seq_length]: \",hi_tensor.shape)"
      ],
      "metadata": {
        "colab": {
          "base_uri": "https://localhost:8080/"
        },
        "id": "XQMPnmYd3ikN",
        "outputId": "9451d98d-b6ed-4e37-f6be-f1c29c49e49f"
      },
      "execution_count": 151,
      "outputs": [
        {
          "output_type": "stream",
          "name": "stdout",
          "text": [
            "[BATCH_SIZE,en_seq_length]:  torch.Size([64, 14])\n",
            "[BATCH_SIZE,hi_seq_length]:  torch.Size([64, 21])\n"
          ]
        }
      ]
    },
    {
      "cell_type": "markdown",
      "source": [
        "# Model"
      ],
      "metadata": {
        "id": "a18XWAjn35Vm"
      }
    },
    {
      "cell_type": "markdown",
      "source": [
        "![Capture.PNG](data:image/png;base64,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)\n",
        "\n",
        "Image Source: [Luong et al. 2015](https://arxiv.org/pdf/1508.04025.pdf)"
      ],
      "metadata": {
        "id": "ZRiuymeN8fPn"
      }
    },
    {
      "cell_type": "markdown",
      "source": [
        "## Encoder"
      ],
      "metadata": {
        "id": "JZSTp7S28Xfj"
      }
    },
    {
      "cell_type": "code",
      "source": [
        "class Encoder(nn.Module):\n",
        "\n",
        "  def __init__(self,src_vocab_size,embed_dim,lstm_hidden_dim):\n",
        "    super().__init__()\n",
        "    self.embedding = nn.Embedding(src_vocab_size,embed_dim,padding_idx=1)\n",
        "    self.stacked_lstm = nn.LSTM(embed_dim,lstm_hidden_dim,num_layers=2,batch_first=True)\n",
        "\n",
        "  def forward(self,input):\n",
        "    \"\"\"\n",
        "    INPUT:\n",
        "      input: [batch_size,src_seq_length]\n",
        "      hidden(implicit): [2,batch_size,lstm_hidden_dim]\n",
        "      cell(implicit): [2,batch_size,lstm_hidden_dim]\n",
        "\n",
        "    OUTPUT:\n",
        "      out: [batch_size,src_seq_length,lstm_hidden_dim]\n",
        "      hidden: [2,batch_size,lstm_hidden_dim]\n",
        "      cell: [2,batch_size,lstm_hidden_dim]\n",
        "    \"\"\"\n",
        "    \n",
        "    ## out: [batch_size,src_seq_length,embed_dim]\n",
        "    out = self.embedding(input)\n",
        "\n",
        "    ## out: [batch_size,src_seq_length,lstm_hidden_dim]\n",
        "    ## hidden: [1,batch_size,lstm_hidden_dim]\n",
        "    ## cell: [1,batch_size,lstm_hidden_dim]\n",
        "    out,(hidden,cell) = self.stacked_lstm(out)\n",
        "\n",
        "    return out,hidden,cell"
      ],
      "metadata": {
        "id": "64PQtWSv3kIi"
      },
      "execution_count": 152,
      "outputs": []
    },
    {
      "cell_type": "markdown",
      "source": [
        "## Global Attention\n",
        "\n",
        "\n",
        "\n",
        "\n",
        "\n",
        "\n",
        "\n",
        "\n"
      ],
      "metadata": {
        "id": "mKmhE181kcdv"
      }
    },
    {
      "cell_type": "markdown",
      "source": [
        "![Capture_1.PNG](data:image/png;base64,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)\n",
        "\n",
        "Image Source: [Luong et al. 2015](https://arxiv.org/pdf/1508.04025.pdf)"
      ],
      "metadata": {
        "id": "qgRF7kaObcmZ"
      }
    },
    {
      "cell_type": "markdown",
      "source": [
        "\n",
        "It takes as input the hidden state h<sub>t</sub>  at the top layer of a stacking LSTM. In the paper, the authors used **location-based** function to compute alignment score. It is given by,&nbsp;&nbsp;&nbsp; ***a***<sub>t</sub> = softmax(***W***<sub>a</sub>***h***<sub>t</t>)\n",
        "\n",
        "Given the alignment vector as weights, the context\n",
        "vector c<sub>t</sub> is computed as the weighted average over\n",
        "**all** the source hidden states. Later, context vector is concatenated with target hidden state, which is then fed to fully-connected layer to transform it into a vector of\n",
        " size: **tgt_vocab_size**."
      ],
      "metadata": {
        "id": "u14Xx4qLbaxG"
      }
    },
    {
      "cell_type": "code",
      "source": [
        "class Attention(nn.Module):\n",
        "\n",
        "  def __init__(self,lstm_hidden_dim):   \n",
        "    super().__init__()\n",
        "    self.fc = nn.Linear(lstm_hidden_dim,1)\n",
        "    self.softmax = nn.Softmax(dim=1)\n",
        "\n",
        "  def forward(self,tgt_hid,src_out):\n",
        "    \"\"\"\n",
        "    INPUT:\n",
        "      tgt_hid: [batch_size,1,lstm_hidden_dim]\n",
        "      src_out: [batch_size,src_seq_length,lstm_hidden_dim]\n",
        "\n",
        "    OUTPUT:\n",
        "      align_score: [batch_size,src_seq_length,1]\n",
        "    \"\"\"\n",
        "\n",
        "    src_length = src_out.shape[1]\n",
        "\n",
        "    ## out: [batch_size,src_seq_length,lstm_hidden_dim]\n",
        "    out = tgt_hid.repeat(1,src_length,1)\n",
        "\n",
        "    ## out: [batch_size,src_seq_length,1]\n",
        "    out = self.fc(out)\n",
        "\n",
        "    return self.softmax(out)"
      ],
      "metadata": {
        "id": "IQLUhodfqMC-"
      },
      "execution_count": 153,
      "outputs": []
    },
    {
      "cell_type": "code",
      "source": [
        "class Decoder(nn.Module):\n",
        "\n",
        "  def __init__(self,tgt_vocab_size,embed_dim,lstm_hidden_dim):\n",
        "    super().__init__()\n",
        "    self.attention = Attention(lstm_hidden_dim)\n",
        "    self.embedding = nn.Embedding(tgt_vocab_size,embed_dim,padding_idx=1)\n",
        "    self.lstm = nn.LSTM(embed_dim,lstm_hidden_dim,num_layers=2,batch_first=True)\n",
        "    self.fc = nn.Linear(lstm_hidden_dim*2,tgt_vocab_size)\n",
        "\n",
        "  def forward(self,src_out,hidden,cell,tgt_hid):\n",
        "    \"\"\"\n",
        "    INPUT:\n",
        "      src_out: [batch_size,src_seq_length,lstm_hidden_dim]\n",
        "      tgt_hid: [batch_size]\n",
        "      hidden: [2,batch_size,lstm_hidden_dim]\n",
        "      cell: [2,batch_size,lstm_hidden_dim]\n",
        "\n",
        "    OUTPUT:\n",
        "      out: [batch_size,tgt_vocab_size]         \n",
        "      hidden: [2,batch_size,lstm_hidden_dim]\n",
        "      cell: [2,batch_size,lstm_hidden_dim]\n",
        "    \"\"\"\n",
        "\n",
        "    src_seq_length = src_out.shape[1]\n",
        "\n",
        "    ## out: [batch_size,1]\n",
        "    out = tgt_hid.unsqueeze(1)\n",
        "\n",
        "    ## out: [batch_size,1,embed_dim]\n",
        "    out = self.embedding(out)\n",
        "\n",
        "    ## out: [batch_size,1,lstm_hidden_dim]\n",
        "    ## hidden: [2,batch_size,lstm_hidden_dim]\n",
        "    ## cell: [2,batch_size,lstm_hidden_dim]\n",
        "    out,(hidden,cell) = self.lstm(out)\n",
        "\n",
        "    ## align_score: [batch_size,src_seq_length,1]\n",
        "    align_score = self.attention(out,src_out).permute(0,2,1)   \n",
        "\n",
        "    ## score: [batch_size,src_seq_length,1]\n",
        "    score = align_score/align_score.sum(1).unsqueeze(1)\n",
        "\n",
        "    ## context: [batch_size,1,lstm_hidden_dim]\n",
        "    context = torch.bmm(score,src_out)\n",
        "\n",
        "    ## out: [batch_size,1,2*lstm_hidden_dim]\n",
        "    out = torch.concat([out,context],dim=2).squeeze(1)\n",
        "\n",
        "    ## out: [batch_size,tgt_vocab_size]\n",
        "    out = self.fc(out)\n",
        "    \n",
        "    return out, hidden, cell"
      ],
      "metadata": {
        "id": "fEnZ6ZOl_ZLL"
      },
      "execution_count": 154,
      "outputs": []
    },
    {
      "cell_type": "code",
      "source": [
        "class Finalized_Model(nn.Module):\n",
        "\n",
        "  def __init__(self,encoder,decoder,tgt_vocab_size):\n",
        "    super().__init__()\n",
        "    self.encoder = encoder\n",
        "    self.decoder = decoder\n",
        "    self.tgt_vocab_size = tgt_vocab_size\n",
        "\n",
        "  def forward(self,src,tgt,teacher_force_ratio=0.6):\n",
        "    \"\"\"\n",
        "    INPUT:\n",
        "      src: [batch_size,src_seq_length]\n",
        "      tgt: [batch_size,tgt_seq_length]\n",
        "\n",
        "    OUTPUT:\n",
        "      output: [batch_size,tgt_seq_length,TGT_VOCAB_SIZE]\n",
        "    \"\"\"\n",
        "    batch_size = tgt.shape[0]\n",
        "    tgt_len = tgt.shape[1]\n",
        "\n",
        "    output = torch.zeros(batch_size,tgt_len,self.tgt_vocab_size)\n",
        "\n",
        "    # src_out: [batch_size,src_seq_length,lstm_hidden_dim]\n",
        "    # hidden: [2,batch_size,lstm_hidden_dim]\n",
        "    # cell: [2,batch_size,lstm_hidden_dim]\n",
        "    src_out,hidden,cell = self.encoder(src)  \n",
        "\n",
        "    ## x: [batch_size]\n",
        "    x = tgt[:,0]\n",
        "\n",
        "    for t in range(tgt_len):\n",
        "\n",
        "      # out: [batch_size,tgt_vocab_size]\n",
        "      # hidden: [2,batch_size,lstm_hidden_dim]\n",
        "      # cell: [2,batch_size,lstm_hidden_dim]\n",
        "      out,hidden,cell = self.decoder(src_out,hidden,cell,x)\n",
        "\n",
        "      output[:,t,:] = out\n",
        "      best_guess = torch.argmax(out,dim=1)\n",
        "      x = tgt[:,t] if random.random() < teacher_force_ratio else best_guess \n",
        "\n",
        "    return output"
      ],
      "metadata": {
        "id": "qXUe8V2g_kIK"
      },
      "execution_count": 155,
      "outputs": []
    },
    {
      "cell_type": "markdown",
      "source": [
        "## Model Initialization"
      ],
      "metadata": {
        "id": "-y3jkmbJLxBe"
      }
    },
    {
      "cell_type": "code",
      "source": [
        "SRC_VOCAB_SIZE = len(EN_VOCAB)\n",
        "TGT_VOCAB_SIZE = len(HI_VOCAB)\n",
        "EMBED_DIM = 512\n",
        "LSTM_HIDDEN_DIM = 1024"
      ],
      "metadata": {
        "id": "Pd9c-yukMZxB"
      },
      "execution_count": 156,
      "outputs": []
    },
    {
      "cell_type": "code",
      "source": [
        "ENCODER = Encoder(SRC_VOCAB_SIZE,EMBED_DIM,LSTM_HIDDEN_DIM)\n",
        "DECODER = Decoder(TGT_VOCAB_SIZE,EMBED_DIM,LSTM_HIDDEN_DIM)\n",
        "\n",
        "DEVICE = torch.device('cuda' if torch.cuda.is_available() else 'cpu')\n",
        "model = Finalized_Model(ENCODER,DECODER,TGT_VOCAB_SIZE).to(DEVICE)\n",
        "\n",
        "model"
      ],
      "metadata": {
        "colab": {
          "base_uri": "https://localhost:8080/"
        },
        "id": "vUhF6jZXLN9X",
        "outputId": "fe7c1931-433c-42de-f5e9-29c8fb3354e0"
      },
      "execution_count": 157,
      "outputs": [
        {
          "output_type": "execute_result",
          "data": {
            "text/plain": [
              "Finalized_Model(\n",
              "  (encoder): Encoder(\n",
              "    (embedding): Embedding(2368, 512, padding_idx=1)\n",
              "    (stacked_lstm): LSTM(512, 1024, num_layers=2, batch_first=True)\n",
              "  )\n",
              "  (decoder): Decoder(\n",
              "    (attention): Attention(\n",
              "      (fc): Linear(in_features=1024, out_features=1, bias=True)\n",
              "      (softmax): Softmax(dim=1)\n",
              "    )\n",
              "    (embedding): Embedding(2856, 512, padding_idx=1)\n",
              "    (lstm): LSTM(512, 1024, num_layers=2, batch_first=True)\n",
              "    (fc): Linear(in_features=2048, out_features=2856, bias=True)\n",
              "  )\n",
              ")"
            ]
          },
          "metadata": {},
          "execution_count": 157
        }
      ]
    },
    {
      "cell_type": "code",
      "source": [
        "def count_parameters(model):\n",
        "  return sum(param.numel() for param in model.parameters() if param.requires_grad)\n",
        "\n",
        "def count_parameters(model):\n",
        "  return sum(param.numel() for param in model.parameters() if param.requires_grad)\n",
        "\n",
        "print(\"Number of trainable params in Encoder: {:,}\".format(count_parameters(ENCODER)))\n",
        "print(\"Number of trainable params in Decoder: {:,}\".format(count_parameters(DECODER)))\n",
        "print(\"Number of trainable params in seq2seq: {:,}\".format(count_parameters(model)))"
      ],
      "metadata": {
        "colab": {
          "base_uri": "https://localhost:8080/"
        },
        "id": "5JJPZJYqVXBi",
        "outputId": "5b937786-55de-44fd-c4e2-9ac5fc3911d3"
      },
      "execution_count": 158,
      "outputs": [
        {
          "output_type": "stream",
          "name": "stdout",
          "text": [
            "Number of trainable params in Encoder: 15,908,864\n",
            "Number of trainable params in Decoder: 22,011,689\n",
            "Number of trainable params in seq2seq: 37,920,553\n"
          ]
        }
      ]
    },
    {
      "cell_type": "markdown",
      "source": [
        "## Model Training"
      ],
      "metadata": {
        "id": "SoKAzqyPWmp_"
      }
    },
    {
      "cell_type": "code",
      "source": [
        "optimizer = torch.optim.Adam(model.parameters(),lr=0.01)\n",
        "loss_fn = torch.nn.CrossEntropyLoss()"
      ],
      "metadata": {
        "id": "yWVheW0QWpHY"
      },
      "execution_count": 159,
      "outputs": []
    },
    {
      "cell_type": "code",
      "source": [
        "def train(data_iter):\n",
        "  model.train()\n",
        "  epoch_loss = 0.0\n",
        "\n",
        "  ## src: [batch_size,src_seq_length]\n",
        "  ## tgt: [batch_size,tgt_seq_length]\n",
        "  for src,tgt in data_iter:\n",
        "    optimizer.zero_grad()\n",
        "\n",
        "    ## pred: [batch_size,tgt_seq_length,TGT_VOCAB_SIZE]\n",
        "    pred = model(src,tgt[:,:-1])\n",
        "\n",
        "    ## pred: [batch_size*tgt_seq_length,TGT_VOCAB_SIZE]\n",
        "    pred = pred.reshape(-1,TGT_VOCAB_SIZE).to(DEVICE)\n",
        "\n",
        "    ## tgt_label: [batch_size*tgt_seq_length]\n",
        "    tgt_label = tgt[:,1:].reshape(-1)\n",
        "\n",
        "    ## loss: [batch_size*tgt_seq_length]\n",
        "    loss = loss_fn(pred,tgt_label)\n",
        "\n",
        "    epoch_loss += loss.item()\n",
        "    loss.backward()\n",
        "    optimizer.step()\n",
        "  \n",
        "  return epoch_loss/len(data_iter)"
      ],
      "metadata": {
        "id": "etE-g2LGW5I7"
      },
      "execution_count": 160,
      "outputs": []
    },
    {
      "cell_type": "code",
      "source": [
        "NUM_EPOCHS = 50\n",
        "for epoch in range(NUM_EPOCHS):\n",
        "  if epoch%5 == 0:\n",
        "    loss = train(TRAIN_DL)\n",
        "    print(\"EPOCH: {} --------> LOSS: {: .4f}\".format(epoch,loss))"
      ],
      "metadata": {
        "id": "Nsgg1iEvZjOT",
        "outputId": "96445715-6c6e-4467-994b-0cba28800268",
        "colab": {
          "base_uri": "https://localhost:8080/"
        }
      },
      "execution_count": 161,
      "outputs": [
        {
          "output_type": "stream",
          "name": "stdout",
          "text": [
            "EPOCH: 0 --------> LOSS:  8.4545\n",
            "EPOCH: 5 --------> LOSS:  3.2386\n",
            "EPOCH: 10 --------> LOSS:  2.9836\n",
            "EPOCH: 15 --------> LOSS:  2.8145\n",
            "EPOCH: 20 --------> LOSS:  2.6896\n",
            "EPOCH: 25 --------> LOSS:  2.5694\n",
            "EPOCH: 30 --------> LOSS:  2.3858\n",
            "EPOCH: 35 --------> LOSS:  2.2190\n",
            "EPOCH: 40 --------> LOSS:  2.1577\n",
            "EPOCH: 45 --------> LOSS:  2.0055\n"
          ]
        }
      ]
    },
    {
      "cell_type": "markdown",
      "source": [
        "## Test Translation"
      ],
      "metadata": {
        "id": "LQzpde52xKcZ"
      }
    },
    {
      "cell_type": "code",
      "source": [
        "def translate(src):\n",
        "  model.eval()\n",
        "  src_tokenized = torch.tensor(en_pipeline(src),device=DEVICE).unsqueeze(0)\n",
        "\n",
        "  seed = [\"<bos>\"]\n",
        "  tgt_tokenized = HI_VOCAB(seed)\n",
        "  src_out, hidden, cell = ENCODER(src_tokenized)\n",
        "\n",
        "  with torch.no_grad():\n",
        "      while tgt_tokenized[-1] != 3 and len(tgt_tokenized) < 10:     \n",
        "        input = torch.tensor(tgt_tokenized[-1],device=DEVICE).unsqueeze(0)   \n",
        "        pred,hidden,cell = DECODER(src_out,hidden,cell,input)\n",
        "        probs = torch.softmax(pred[0,:],dim=0)      \n",
        "        prediction = torch.multinomial(probs,num_samples=1).item()\n",
        "\n",
        "        if prediction in [0,1]:\n",
        "          continue\n",
        "        tgt_tokenized.append(prediction)\n",
        "\n",
        "  itos = HI_VOCAB.get_itos()\n",
        "  tokens = [itos[i] for i in tgt_tokenized]\n",
        "  return tokens"
      ],
      "metadata": {
        "id": "1edJu2Jw4Enj"
      },
      "execution_count": 162,
      "outputs": []
    },
    {
      "cell_type": "markdown",
      "source": [
        "This is one of the best translations the model can produce. Where did things go wrong? \n",
        "\n",
        "\n",
        "*   Location-based alignment scores appear to perform poorly when compared to alignment functions that take into account both the source and target hidden states. \n",
        "*   The dataset comprised of only 2868 training examples. Nearly half of the English and Hindi tokens appeared only once in the entire dataset, making it hard to identify any pattern\n",
        "\n"
      ],
      "metadata": {
        "id": "xTOA-D9C9ABx"
      }
    },
    {
      "cell_type": "code",
      "source": [
        "translate(\"What time is it?\")"
      ],
      "metadata": {
        "colab": {
          "base_uri": "https://localhost:8080/"
        },
        "id": "PwydHRjs4oz6",
        "outputId": "65187218-a313-4b05-c8fb-1e79a61d1389"
      },
      "execution_count": 224,
      "outputs": [
        {
          "output_type": "execute_result",
          "data": {
            "text/plain": [
              "['<bos>', 'अभी', 'बजे', '<eos>']"
            ]
          },
          "metadata": {},
          "execution_count": 224
        }
      ]
    },
    {
      "cell_type": "code",
      "source": [
        "translate(\"Do you still go to school?\")"
      ],
      "metadata": {
        "colab": {
          "base_uri": "https://localhost:8080/"
        },
        "id": "W60251rW5Wk-",
        "outputId": "ed0fe77c-e8c4-4da5-846d-c87f233fb011"
      },
      "execution_count": 239,
      "outputs": [
        {
          "output_type": "execute_result",
          "data": {
            "text/plain": [
              "['<bos>', 'आप', 'भेज', 'है', '<eos>']"
            ]
          },
          "metadata": {},
          "execution_count": 239
        }
      ]
    },
    {
      "cell_type": "code",
      "source": [
        "translate(\"Can I help you?\")"
      ],
      "metadata": {
        "colab": {
          "base_uri": "https://localhost:8080/"
        },
        "id": "QLgMqC8B7neV",
        "outputId": "a0b1d67f-0ad0-4f30-bb01-3b1630d6824f"
      },
      "execution_count": 201,
      "outputs": [
        {
          "output_type": "execute_result",
          "data": {
            "text/plain": [
              "['<bos>', 'मैं', 'सहायता', 'हो', '<eos>']"
            ]
          },
          "metadata": {},
          "execution_count": 201
        }
      ]
    }
  ]
}
